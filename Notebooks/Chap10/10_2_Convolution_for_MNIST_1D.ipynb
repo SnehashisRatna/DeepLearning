{
  "nbformat": 4,
  "nbformat_minor": 0,
  "metadata": {
    "colab": {
      "provenance": [],
      "include_colab_link": true
    },
    "kernelspec": {
      "name": "python3",
      "display_name": "Python 3"
    },
    "language_info": {
      "name": "python"
    }
  },
  "cells": [
    {
      "cell_type": "markdown",
      "metadata": {
        "id": "view-in-github",
        "colab_type": "text"
      },
      "source": [
        "<a href=\"https://colab.research.google.com/github/SnehashisRatna/DeepLearning/blob/main/Notebooks/Chap10/10_2_Convolution_for_MNIST_1D.ipynb\" target=\"_parent\"><img src=\"https://colab.research.google.com/assets/colab-badge.svg\" alt=\"Open In Colab\"/></a>"
      ]
    },
    {
      "cell_type": "markdown",
      "source": [
        "# **Notebook 10.2: Convolution for MNIST-1D**\n",
        "\n",
        "This notebook investigates a 1D convolutional network for MNIST-1D as in figure 10.7 and 10.8a.\n",
        "\n",
        "Work through the cells below, running each cell in turn. In various places you will see the words \"TODO\". Follow the instructions at these places and make predictions about what is going to happen or write code to complete the functions.\n",
        "\n",
        "Contact me at udlbookmail@gmail.com if you find any mistakes or have any suggestions.\n",
        "\n"
      ],
      "metadata": {
        "id": "t9vk9Elugvmi"
      }
    },
    {
      "cell_type": "code",
      "source": [
        "# Run this if you're in a Colab to install MNIST 1D repository\n",
        "!pip install git+https://github.com/greydanus/mnist1d"
      ],
      "metadata": {
        "id": "D5yLObtZCi9J",
        "outputId": "cd4d6e86-b3f2-4e49-8c1a-2e1fc6642127",
        "colab": {
          "base_uri": "https://localhost:8080/"
        }
      },
      "execution_count": 1,
      "outputs": [
        {
          "output_type": "stream",
          "name": "stdout",
          "text": [
            "Collecting git+https://github.com/greydanus/mnist1d\n",
            "  Cloning https://github.com/greydanus/mnist1d to /tmp/pip-req-build-ubp21grh\n",
            "  Running command git clone --filter=blob:none --quiet https://github.com/greydanus/mnist1d /tmp/pip-req-build-ubp21grh\n",
            "  Resolved https://github.com/greydanus/mnist1d to commit 7878d96082abd200c546a07a4101fa90b30fdf7e\n",
            "  Installing build dependencies ... \u001b[?25l\u001b[?25hdone\n",
            "  Getting requirements to build wheel ... \u001b[?25l\u001b[?25hdone\n",
            "  Preparing metadata (pyproject.toml) ... \u001b[?25l\u001b[?25hdone\n",
            "Requirement already satisfied: requests in /usr/local/lib/python3.11/dist-packages (from mnist1d==0.0.2.post16) (2.32.3)\n",
            "Requirement already satisfied: numpy in /usr/local/lib/python3.11/dist-packages (from mnist1d==0.0.2.post16) (2.0.2)\n",
            "Requirement already satisfied: matplotlib in /usr/local/lib/python3.11/dist-packages (from mnist1d==0.0.2.post16) (3.10.0)\n",
            "Requirement already satisfied: scipy in /usr/local/lib/python3.11/dist-packages (from mnist1d==0.0.2.post16) (1.15.2)\n",
            "Requirement already satisfied: contourpy>=1.0.1 in /usr/local/lib/python3.11/dist-packages (from matplotlib->mnist1d==0.0.2.post16) (1.3.2)\n",
            "Requirement already satisfied: cycler>=0.10 in /usr/local/lib/python3.11/dist-packages (from matplotlib->mnist1d==0.0.2.post16) (0.12.1)\n",
            "Requirement already satisfied: fonttools>=4.22.0 in /usr/local/lib/python3.11/dist-packages (from matplotlib->mnist1d==0.0.2.post16) (4.57.0)\n",
            "Requirement already satisfied: kiwisolver>=1.3.1 in /usr/local/lib/python3.11/dist-packages (from matplotlib->mnist1d==0.0.2.post16) (1.4.8)\n",
            "Requirement already satisfied: packaging>=20.0 in /usr/local/lib/python3.11/dist-packages (from matplotlib->mnist1d==0.0.2.post16) (24.2)\n",
            "Requirement already satisfied: pillow>=8 in /usr/local/lib/python3.11/dist-packages (from matplotlib->mnist1d==0.0.2.post16) (11.2.1)\n",
            "Requirement already satisfied: pyparsing>=2.3.1 in /usr/local/lib/python3.11/dist-packages (from matplotlib->mnist1d==0.0.2.post16) (3.2.3)\n",
            "Requirement already satisfied: python-dateutil>=2.7 in /usr/local/lib/python3.11/dist-packages (from matplotlib->mnist1d==0.0.2.post16) (2.9.0.post0)\n",
            "Requirement already satisfied: charset-normalizer<4,>=2 in /usr/local/lib/python3.11/dist-packages (from requests->mnist1d==0.0.2.post16) (3.4.1)\n",
            "Requirement already satisfied: idna<4,>=2.5 in /usr/local/lib/python3.11/dist-packages (from requests->mnist1d==0.0.2.post16) (3.10)\n",
            "Requirement already satisfied: urllib3<3,>=1.21.1 in /usr/local/lib/python3.11/dist-packages (from requests->mnist1d==0.0.2.post16) (2.4.0)\n",
            "Requirement already satisfied: certifi>=2017.4.17 in /usr/local/lib/python3.11/dist-packages (from requests->mnist1d==0.0.2.post16) (2025.4.26)\n",
            "Requirement already satisfied: six>=1.5 in /usr/local/lib/python3.11/dist-packages (from python-dateutil>=2.7->matplotlib->mnist1d==0.0.2.post16) (1.17.0)\n",
            "Building wheels for collected packages: mnist1d\n",
            "  Building wheel for mnist1d (pyproject.toml) ... \u001b[?25l\u001b[?25hdone\n",
            "  Created wheel for mnist1d: filename=mnist1d-0.0.2.post16-py3-none-any.whl size=14663 sha256=4243f87b672ca7dcd7fe28347bf2a747fd4c2875688be2e0b789c3b3c77dd64d\n",
            "  Stored in directory: /tmp/pip-ephem-wheel-cache-ytfdcdet/wheels/d6/38/42/3d2112bc7d915f6195254ac85eb761d922d1b18f52817aa8e2\n",
            "Successfully built mnist1d\n",
            "Installing collected packages: mnist1d\n",
            "Successfully installed mnist1d-0.0.2.post16\n"
          ]
        }
      ]
    },
    {
      "cell_type": "code",
      "source": [
        "import numpy as np\n",
        "import os\n",
        "import torch, torch.nn as nn\n",
        "from torch.utils.data import TensorDataset, DataLoader\n",
        "from torch.optim.lr_scheduler import StepLR\n",
        "import matplotlib.pyplot as plt\n",
        "import mnist1d\n",
        "import random"
      ],
      "metadata": {
        "id": "YrXWAH7sUWvU"
      },
      "execution_count": null,
      "outputs": []
    },
    {
      "cell_type": "code",
      "source": [
        "args = mnist1d.data.get_dataset_args()\n",
        "data = mnist1d.data.get_dataset(args, path='./mnist1d_data.pkl', download=False, regenerate=False)\n",
        "\n",
        "# The training and test input and outputs are in\n",
        "# data['x'], data['y'], data['x_test'], and data['y_test']\n",
        "print(\"Examples in training set: {}\".format(len(data['y'])))\n",
        "print(\"Examples in test set: {}\".format(len(data['y_test'])))\n",
        "print(\"Length of each example: {}\".format(data['x'].shape[-1]))"
      ],
      "metadata": {
        "id": "twI72ZCrCt5z",
        "outputId": "7c9a8c23-f1d0-4b34-ad40-338cc8a45fc7",
        "colab": {
          "base_uri": "https://localhost:8080/"
        }
      },
      "execution_count": null,
      "outputs": [
        {
          "output_type": "stream",
          "name": "stdout",
          "text": [
            "Did or could not load data from ./mnist1d_data.pkl. Rebuilding dataset...\n",
            "Examples in training set: 4000\n",
            "Examples in test set: 1000\n",
            "Length of each example: 40\n"
          ]
        }
      ]
    },
    {
      "cell_type": "code",
      "source": [
        "# Load in the data\n",
        "train_data_x = data['x'].transpose()\n",
        "train_data_y = data['y']\n",
        "val_data_x = data['x_test'].transpose()\n",
        "val_data_y = data['y_test']\n",
        "# Print out sizes\n",
        "print(\"Train data: %d examples (columns), each of which has %d dimensions (rows)\"%((train_data_x.shape[1],train_data_x.shape[0])))\n",
        "print(\"Validation data: %d examples (columns), each of which has %d dimensions (rows)\"%((val_data_x.shape[1],val_data_x.shape[0])))"
      ],
      "metadata": {
        "id": "8bKADvLHbiV5",
        "outputId": "7447e604-a7b8-4d1d-90f4-8eec79dfab93",
        "colab": {
          "base_uri": "https://localhost:8080/"
        }
      },
      "execution_count": null,
      "outputs": [
        {
          "output_type": "stream",
          "name": "stdout",
          "text": [
            "Train data: 4000 examples (columns), each of which has 40 dimensions (rows)\n",
            "Validation data: 1000 examples (columns), each of which has 40 dimensions (rows)\n"
          ]
        }
      ]
    },
    {
      "cell_type": "markdown",
      "source": [
        "Define the network"
      ],
      "metadata": {
        "id": "_sFvRDGrl4qe"
      }
    },
    {
      "cell_type": "code",
      "source": [
        "# There are 40 input dimensions and 10 output dimensions for this data\n",
        "# The inputs correspond to the 40 offsets in the MNIST1D template.\n",
        "D_i = 40\n",
        "# The outputs correspond to the 10 digits\n",
        "D_o = 10\n",
        "\n",
        "\n",
        "# TODO Create a model with the following layers\n",
        "\n",
        "\n",
        "# References:\n",
        "# https://pytorch.org/docs/1.13/generated/torch.nn.Conv1d.html?highlight=conv1d#torch.nn.Conv1d\n",
        "# https://pytorch.org/docs/stable/generated/torch.nn.Flatten.html\n",
        "# https://pytorch.org/docs/1.13/generated/torch.nn.Linear.html?highlight=linear#torch.nn.Linear\n",
        "\n",
        "# NOTE THAT THE CONVOLUTIONAL LAYERS NEED TO TAKE THE NUMBER OF INPUT CHANNELS AS A PARAMETER\n",
        "# AND NOT THE INPUT SIZE.\n",
        "\n",
        "# Replace the following function:\n",
        "model = nn.Sequential(\n",
        "    # 1. Convolutional layer, (input=length 40 and 1 channel, kernel size 3, stride 2, padding=\"valid\", 15 output channels )\n",
        "nn.Conv1d(in_channels=1, out_channels=15, kernel_size=3, stride=2, padding=0),\n",
        "# 2. ReLU\n",
        "nn.ReLU(),\n",
        "\n",
        "# 3. Convolutional layer, (input=length 19 and 15 channels, kernel size 3, stride 2, padding=\"valid\", 15 output channels )\n",
        "nn.Conv1d(in_channels=15, out_channels=15, kernel_size=3, stride=2, padding=0),\n",
        "# 4. ReLU\n",
        "nn.ReLU(),\n",
        "\n",
        "# 5. Convolutional layer, (input=length 9 and 15 channels, kernel size 3, stride 2, padding=\"valid\", 15 output channels)\n",
        "nn.Conv1d(in_channels=15, out_channels=15, kernel_size=3, stride=2, padding=0),\n",
        "# 6. ReLU\n",
        "nn.ReLU(),\n",
        "\n",
        "# 7. Flatten (converts 4x15) to length 60\n",
        "nn.Flatten(),\n",
        "\n",
        "# 8. Linear layer (input size = 60, output size = 10)\n",
        "nn.Linear(in_features=60, out_features=10)\n",
        ")\n",
        "\n",
        "\n",
        "\n"
      ],
      "metadata": {
        "id": "FslroPJJffrh"
      },
      "execution_count": null,
      "outputs": []
    },
    {
      "cell_type": "code",
      "source": [
        "# He initialization of weights\n",
        "def weights_init(layer_in):\n",
        "  if isinstance(layer_in, nn.Linear):\n",
        "    nn.init.kaiming_uniform_(layer_in.weight)\n",
        "    layer_in.bias.data.fill_(0.0)"
      ],
      "metadata": {
        "id": "YgLaex1pfhqz"
      },
      "execution_count": null,
      "outputs": []
    },
    {
      "cell_type": "code",
      "source": [
        "# choose cross entropy loss function (equation 5.24 in the loss notes)\n",
        "loss_function = nn.CrossEntropyLoss()\n",
        "# construct SGD optimizer and initialize learning rate and momentum\n",
        "optimizer = torch.optim.SGD(model.parameters(), lr = 0.05, momentum=0.9)\n",
        "# object that decreases learning rate by half every 20 epochs\n",
        "scheduler = StepLR(optimizer, step_size=20, gamma=0.5)\n",
        "# create 100 dummy data points and store in data loader class\n",
        "x_train = torch.tensor(train_data_x.transpose().astype('float32'))\n",
        "y_train = torch.tensor(train_data_y.astype('long')).long()\n",
        "x_val= torch.tensor(val_data_x.transpose().astype('float32'))\n",
        "y_val = torch.tensor(val_data_y.astype('long')).long()\n",
        "\n",
        "# load the data into a class that creates the batches\n",
        "data_loader = DataLoader(TensorDataset(x_train,y_train), batch_size=100, shuffle=True, worker_init_fn=np.random.seed(1))\n",
        "\n",
        "# Initialize model weights\n",
        "model.apply(weights_init)\n",
        "\n",
        "# loop over the dataset n_epoch times\n",
        "n_epoch = 100\n",
        "# store the loss and the % correct at each epoch\n",
        "losses_train = np.zeros((n_epoch))\n",
        "errors_train = np.zeros((n_epoch))\n",
        "losses_val = np.zeros((n_epoch))\n",
        "errors_val = np.zeros((n_epoch))\n",
        "\n",
        "for epoch in range(n_epoch):\n",
        "  # loop over batches\n",
        "  for i, data in enumerate(data_loader):\n",
        "    # retrieve inputs and labels for this batch\n",
        "    x_batch, y_batch = data\n",
        "    # zero the parameter gradients\n",
        "    optimizer.zero_grad()\n",
        "    # forward pass -- calculate model output\n",
        "    pred = model(x_batch[:,None,:])\n",
        "    # compute the loss\n",
        "    loss = loss_function(pred, y_batch)\n",
        "    # backward pass\n",
        "    loss.backward()\n",
        "    # SGD update\n",
        "    optimizer.step()\n",
        "\n",
        "  # Run whole dataset to get statistics -- normally wouldn't do this\n",
        "  pred_train = model(x_train[:,None,:])\n",
        "  pred_val = model(x_val[:,None,:])\n",
        "  _, predicted_train_class = torch.max(pred_train.data, 1)\n",
        "  _, predicted_val_class = torch.max(pred_val.data, 1)\n",
        "  errors_train[epoch] = 100 - 100 * (predicted_train_class == y_train).float().sum() / len(y_train)\n",
        "  errors_val[epoch]= 100 - 100 * (predicted_val_class == y_val).float().sum() / len(y_val)\n",
        "  losses_train[epoch] = loss_function(pred_train, y_train).item()\n",
        "  losses_val[epoch]= loss_function(pred_val, y_val).item()\n",
        "  print(f'Epoch {epoch:5d}, train loss {losses_train[epoch]:.6f}, train error {errors_train[epoch]:3.2f},  val loss {losses_val[epoch]:.6f}, percent error {errors_val[epoch]:3.2f}')\n",
        "\n",
        "  # tell scheduler to consider updating learning rate\n",
        "  scheduler.step()\n",
        "\n",
        "# Plot the results\n",
        "fig, ax = plt.subplots()\n",
        "ax.plot(errors_train,'r-',label='train')\n",
        "ax.plot(errors_val,'b-',label='validation')\n",
        "ax.set_ylim(0,100); ax.set_xlim(0,n_epoch)\n",
        "ax.set_xlabel('Epoch'); ax.set_ylabel('Error')\n",
        "ax.set_title('Part I: Validation Result %3.2f'%(errors_val[-1]))\n",
        "ax.legend()\n",
        "plt.show()"
      ],
      "metadata": {
        "id": "NYw8I_3mmX5c",
        "outputId": "2283a599-1961-4c9e-cb15-bec3a9d3d937",
        "colab": {
          "base_uri": "https://localhost:8080/",
          "height": 1000
        }
      },
      "execution_count": null,
      "outputs": [
        {
          "output_type": "stream",
          "name": "stdout",
          "text": [
            "Epoch     0, train loss 2.025207, train error 75.78,  val loss 2.042439, percent error 75.60\n",
            "Epoch     1, train loss 1.727233, train error 67.32,  val loss 1.748634, percent error 70.40\n",
            "Epoch     2, train loss 1.350449, train error 54.42,  val loss 1.371831, percent error 57.50\n",
            "Epoch     3, train loss 1.271874, train error 51.58,  val loss 1.311719, percent error 53.60\n",
            "Epoch     4, train loss 1.216241, train error 49.55,  val loss 1.254169, percent error 50.70\n",
            "Epoch     5, train loss 1.059141, train error 42.28,  val loss 1.106098, percent error 46.80\n",
            "Epoch     6, train loss 0.965706, train error 37.17,  val loss 1.035902, percent error 39.20\n",
            "Epoch     7, train loss 0.814284, train error 31.25,  val loss 0.896981, percent error 36.80\n",
            "Epoch     8, train loss 0.732957, train error 27.32,  val loss 0.827911, percent error 31.50\n",
            "Epoch     9, train loss 0.714828, train error 27.62,  val loss 0.809796, percent error 32.50\n",
            "Epoch    10, train loss 0.610372, train error 22.93,  val loss 0.705594, percent error 26.50\n",
            "Epoch    11, train loss 0.601178, train error 23.47,  val loss 0.699613, percent error 26.90\n",
            "Epoch    12, train loss 0.576664, train error 22.18,  val loss 0.673063, percent error 25.40\n",
            "Epoch    13, train loss 0.392195, train error 14.93,  val loss 0.499632, percent error 18.90\n",
            "Epoch    14, train loss 0.386245, train error 14.60,  val loss 0.507291, percent error 18.80\n",
            "Epoch    15, train loss 0.331134, train error 12.30,  val loss 0.471800, percent error 17.30\n",
            "Epoch    16, train loss 0.283664, train error 10.40,  val loss 0.408037, percent error 15.60\n",
            "Epoch    17, train loss 0.296340, train error 10.97,  val loss 0.408671, percent error 15.20\n",
            "Epoch    18, train loss 0.228619, train error 8.32,  val loss 0.368723, percent error 12.30\n",
            "Epoch    19, train loss 0.218160, train error 7.90,  val loss 0.361559, percent error 12.80\n",
            "Epoch    20, train loss 0.158832, train error 5.43,  val loss 0.321355, percent error 10.80\n",
            "Epoch    21, train loss 0.153116, train error 5.05,  val loss 0.320884, percent error 11.30\n",
            "Epoch    22, train loss 0.139567, train error 4.60,  val loss 0.320066, percent error 10.20\n",
            "Epoch    23, train loss 0.124314, train error 3.75,  val loss 0.293712, percent error 10.00\n",
            "Epoch    24, train loss 0.118510, train error 3.70,  val loss 0.310056, percent error 10.60\n",
            "Epoch    25, train loss 0.124145, train error 4.50,  val loss 0.301924, percent error 10.20\n",
            "Epoch    26, train loss 0.106383, train error 3.43,  val loss 0.297148, percent error 9.60\n",
            "Epoch    27, train loss 0.109439, train error 3.32,  val loss 0.306875, percent error 10.00\n",
            "Epoch    28, train loss 0.105458, train error 3.30,  val loss 0.320315, percent error 10.10\n",
            "Epoch    29, train loss 0.121965, train error 4.78,  val loss 0.319864, percent error 9.50\n",
            "Epoch    30, train loss 0.091119, train error 2.65,  val loss 0.289810, percent error 9.70\n",
            "Epoch    31, train loss 0.090448, train error 2.90,  val loss 0.315676, percent error 9.60\n",
            "Epoch    32, train loss 0.080834, train error 2.40,  val loss 0.300583, percent error 9.00\n",
            "Epoch    33, train loss 0.086494, train error 2.72,  val loss 0.304806, percent error 9.10\n",
            "Epoch    34, train loss 0.076588, train error 2.15,  val loss 0.307038, percent error 9.30\n",
            "Epoch    35, train loss 0.072697, train error 2.12,  val loss 0.316497, percent error 9.20\n",
            "Epoch    36, train loss 0.093558, train error 3.30,  val loss 0.331827, percent error 9.60\n",
            "Epoch    37, train loss 0.074414, train error 2.38,  val loss 0.319268, percent error 9.70\n",
            "Epoch    38, train loss 0.068177, train error 2.10,  val loss 0.302535, percent error 8.40\n",
            "Epoch    39, train loss 0.068952, train error 2.30,  val loss 0.314037, percent error 8.50\n",
            "Epoch    40, train loss 0.055894, train error 1.43,  val loss 0.310058, percent error 8.90\n",
            "Epoch    41, train loss 0.049558, train error 1.25,  val loss 0.301579, percent error 8.70\n",
            "Epoch    42, train loss 0.048534, train error 1.10,  val loss 0.318424, percent error 8.90\n",
            "Epoch    43, train loss 0.047009, train error 1.07,  val loss 0.312329, percent error 8.90\n",
            "Epoch    44, train loss 0.051146, train error 1.30,  val loss 0.318732, percent error 8.60\n",
            "Epoch    45, train loss 0.045359, train error 1.03,  val loss 0.313271, percent error 9.30\n",
            "Epoch    46, train loss 0.047250, train error 1.25,  val loss 0.326447, percent error 8.60\n",
            "Epoch    47, train loss 0.045408, train error 1.03,  val loss 0.325389, percent error 9.60\n",
            "Epoch    48, train loss 0.044069, train error 0.90,  val loss 0.335214, percent error 9.20\n",
            "Epoch    49, train loss 0.039282, train error 0.85,  val loss 0.328432, percent error 9.50\n",
            "Epoch    50, train loss 0.044788, train error 1.12,  val loss 0.347841, percent error 8.40\n",
            "Epoch    51, train loss 0.039246, train error 0.80,  val loss 0.329069, percent error 9.00\n",
            "Epoch    52, train loss 0.040969, train error 0.95,  val loss 0.337159, percent error 9.40\n",
            "Epoch    53, train loss 0.044714, train error 1.35,  val loss 0.352052, percent error 9.10\n",
            "Epoch    54, train loss 0.037720, train error 0.70,  val loss 0.344541, percent error 9.00\n",
            "Epoch    55, train loss 0.035034, train error 0.57,  val loss 0.347055, percent error 8.90\n",
            "Epoch    56, train loss 0.034808, train error 0.70,  val loss 0.339607, percent error 9.00\n",
            "Epoch    57, train loss 0.036641, train error 0.68,  val loss 0.350495, percent error 9.00\n",
            "Epoch    58, train loss 0.034321, train error 0.80,  val loss 0.343024, percent error 8.80\n",
            "Epoch    59, train loss 0.033937, train error 0.65,  val loss 0.356994, percent error 8.80\n",
            "Epoch    60, train loss 0.030518, train error 0.57,  val loss 0.355161, percent error 9.00\n",
            "Epoch    61, train loss 0.030047, train error 0.53,  val loss 0.352351, percent error 8.90\n",
            "Epoch    62, train loss 0.029730, train error 0.55,  val loss 0.360115, percent error 9.00\n",
            "Epoch    63, train loss 0.029524, train error 0.55,  val loss 0.361128, percent error 9.30\n",
            "Epoch    64, train loss 0.028585, train error 0.50,  val loss 0.356238, percent error 9.10\n",
            "Epoch    65, train loss 0.028389, train error 0.50,  val loss 0.366250, percent error 8.90\n",
            "Epoch    66, train loss 0.027952, train error 0.47,  val loss 0.359226, percent error 9.20\n",
            "Epoch    67, train loss 0.027186, train error 0.45,  val loss 0.359329, percent error 8.90\n",
            "Epoch    68, train loss 0.027299, train error 0.43,  val loss 0.361210, percent error 9.20\n",
            "Epoch    69, train loss 0.026579, train error 0.45,  val loss 0.362514, percent error 9.00\n",
            "Epoch    70, train loss 0.026268, train error 0.38,  val loss 0.368031, percent error 9.40\n",
            "Epoch    71, train loss 0.026951, train error 0.40,  val loss 0.360250, percent error 9.10\n",
            "Epoch    72, train loss 0.025638, train error 0.40,  val loss 0.370833, percent error 9.30\n",
            "Epoch    73, train loss 0.025861, train error 0.43,  val loss 0.372008, percent error 9.20\n",
            "Epoch    74, train loss 0.025673, train error 0.35,  val loss 0.374548, percent error 9.40\n",
            "Epoch    75, train loss 0.025251, train error 0.43,  val loss 0.368230, percent error 9.20\n",
            "Epoch    76, train loss 0.024713, train error 0.38,  val loss 0.375086, percent error 9.20\n",
            "Epoch    77, train loss 0.024630, train error 0.40,  val loss 0.377627, percent error 9.40\n",
            "Epoch    78, train loss 0.024516, train error 0.40,  val loss 0.381116, percent error 9.20\n",
            "Epoch    79, train loss 0.023832, train error 0.35,  val loss 0.376345, percent error 9.50\n",
            "Epoch    80, train loss 0.023342, train error 0.35,  val loss 0.378393, percent error 9.50\n",
            "Epoch    81, train loss 0.023413, train error 0.35,  val loss 0.382601, percent error 9.10\n",
            "Epoch    82, train loss 0.023061, train error 0.35,  val loss 0.379549, percent error 9.40\n",
            "Epoch    83, train loss 0.023395, train error 0.32,  val loss 0.380865, percent error 9.50\n",
            "Epoch    84, train loss 0.022797, train error 0.35,  val loss 0.382227, percent error 9.40\n",
            "Epoch    85, train loss 0.023373, train error 0.32,  val loss 0.383575, percent error 9.20\n",
            "Epoch    86, train loss 0.022570, train error 0.35,  val loss 0.382812, percent error 9.50\n",
            "Epoch    87, train loss 0.022654, train error 0.35,  val loss 0.385659, percent error 9.40\n",
            "Epoch    88, train loss 0.022323, train error 0.28,  val loss 0.382785, percent error 9.30\n",
            "Epoch    89, train loss 0.022410, train error 0.28,  val loss 0.384673, percent error 9.30\n",
            "Epoch    90, train loss 0.022571, train error 0.28,  val loss 0.385087, percent error 9.20\n",
            "Epoch    91, train loss 0.022949, train error 0.32,  val loss 0.387014, percent error 9.20\n",
            "Epoch    92, train loss 0.022110, train error 0.30,  val loss 0.381658, percent error 9.40\n",
            "Epoch    93, train loss 0.021726, train error 0.28,  val loss 0.385082, percent error 9.30\n",
            "Epoch    94, train loss 0.021569, train error 0.28,  val loss 0.385865, percent error 9.50\n",
            "Epoch    95, train loss 0.021539, train error 0.28,  val loss 0.385700, percent error 9.50\n",
            "Epoch    96, train loss 0.021874, train error 0.32,  val loss 0.388357, percent error 9.40\n",
            "Epoch    97, train loss 0.021384, train error 0.30,  val loss 0.390183, percent error 9.40\n",
            "Epoch    98, train loss 0.021316, train error 0.25,  val loss 0.388764, percent error 9.30\n",
            "Epoch    99, train loss 0.021356, train error 0.28,  val loss 0.388638, percent error 9.20\n"
          ]
        },
        {
          "output_type": "display_data",
          "data": {
            "text/plain": [
              "<Figure size 640x480 with 1 Axes>"
            ],
            "image/png": "[encoded data removed]"
          },
          "metadata": {}
        }
      ]
    }
  ]
}